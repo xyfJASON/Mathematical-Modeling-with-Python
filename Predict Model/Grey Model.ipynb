{
 "cells": [
  {
   "cell_type": "markdown",
   "id": "5a5afc93",
   "metadata": {},
   "source": [
    "# 灰色预测模型\n",
    "\n",
    "## GM(1,1) 预测模型\n",
    "\n",
    "GM(1,1) 表示模型时一阶微分方程，且只含有一个变量的灰色模型\n",
    "\n",
    "### GM(1,1) 预测方法\n",
    "\n",
    "#### 1、检验数据\n",
    "\n",
    "已知参考数据列\n",
    "$$\n",
    "x^{(0)}=\\{x^{(0)}(i)\\},i=1,2,\\cdots,n\n",
    "$$\n",
    "计算序列的级比\n",
    "$$\n",
    "\\lambda(k)=\\frac{x^{(0)}(k-1)}{x^{(0)}(k)},k=2,3,\\cdots,n\n",
    "$$\n",
    "若 $\\forall\\quad\\lambda(k)\\in(e^{-\\frac{2}{n+1}},e^{\\frac{2}{n+1}})$ 则序列 $x^{(0)}$ 可作为模型数据进行预测，否则必须进行变换处理，选取常数 $c$ 进行平移变换\n",
    "$$\n",
    "y^{(0)}(k)=x^{(0)}(k) + c\n",
    "$$\n",
    "使得其级比满足要求\n",
    "\n",
    "\n",
    "\n",
    "#### 2、建立模型\n",
    "\n",
    "已知参考数据列\n",
    "$$\n",
    "x^{(0)}=\\{x^{(0)}(i)\\},i=1,2,\\cdots,n\n",
    "$$\n",
    "得到 1 次累加生成序列\n",
    "$$\n",
    "x^{(1)}=\\{x^{(1)}(i)=\\mathop{\\Sigma}\\limits_{k=1}^ix^{(0)}\\}, i=1,2,\\cdots,n\n",
    "$$\n",
    "得到 $x^{(1)}$ 的均值生成序列\n",
    "$$\n",
    "z^{(1)}=\\{z^{(1)}(i)=0.5x^{(1)}(i)+0.5x^{(1)}(i-1)\\}, i=2,3,\\cdots,n\n",
    "$$\n",
    "建立灰微分方程\n",
    "$$\n",
    "x^{(0)}(k)+az^{(1)}(k)=b,k=2,3,\\cdots,n\n",
    "$$\n",
    "相应的白化微分方程\n",
    "$$\n",
    "\\frac{dx^{(1)}}{dt}+ax^{(1)}(t)=b\n",
    "$$\n",
    "记 $u=[a,b]^T$，$Y=[x^{(0)}(2),x^{(0)}(3),\\cdots,x^{(0)}(n)]^T$，$B=\\begin{bmatrix}-z^{(1)}(2)&1\\\\-z^{(1)}(3)&1\\\\\\vdots&\\vdots\\\\-z^{(1)}(n)&1\\end{bmatrix}$​，有\n",
    "$$\n",
    "J(u)=(Y-Bu)^T(Y-Bu)\n",
    "$$\n",
    "使得 $J(u)$ 达到最小值的估计值为\n",
    "$$\n",
    "\\widehat{u}=[\\widehat{a},\\widehat{b}]^T=(B^TB)^{-1}B^TY\n",
    "$$\n",
    "可得到\n",
    "$$\n",
    "\\widehat{x}^{(1)}(k+1)=(x^{(0)}(1)-\\frac{\\widehat{b}}{\\widehat{a}})e^{-\\widehat{a}k}+\\frac{\\widehat{b}}{\\widehat{a}},k=0,\\cdots,n-1,\\cdots\n",
    "$$\n",
    "\n",
    "#### 3、检验预测值\n",
    "\n",
    "1. 残差检验\n",
    "   $$\n",
    "   \\epsilon(k)=\\frac{x^{(0)}(k)-\\widehat{x}^{(0)}(k)}{x^{(0)}(k)},k=1,2,\\cdots,n\n",
    "   $$\n",
    "   若 $\\epsilon(k)<0.2$ 则达到一般要求，若 $<0.1$ 则达到较高要求\n",
    "\n",
    "2. 级比偏差检验\n",
    "\n",
    "   首先算出级比 $\\lambda$，随后计算\n",
    "   $$\n",
    "   \\rho(k)=1-(\\frac{1-0.5a}{1+0.5a})\\lambda(k)\n",
    "   $$\n",
    "   若 $\\rho(k)<0.2$ 达到一般要求，$<0.1$ 达到较高要求\n"
   ]
  },
  {
   "cell_type": "markdown",
   "id": "568153de",
   "metadata": {},
   "source": [
    "### 实例\n",
    "北方某城市 1986-1992 年道路交通噪声平均声级数据见下表"
   ]
  },
  {
   "cell_type": "code",
   "execution_count": 106,
   "id": "dfb98f0b",
   "metadata": {},
   "outputs": [
    {
     "data": {
      "text/html": [
       "<div>\n",
       "<style scoped>\n",
       "    .dataframe tbody tr th:only-of-type {\n",
       "        vertical-align: middle;\n",
       "    }\n",
       "\n",
       "    .dataframe tbody tr th {\n",
       "        vertical-align: top;\n",
       "    }\n",
       "\n",
       "    .dataframe thead th {\n",
       "        text-align: right;\n",
       "    }\n",
       "</style>\n",
       "<table border=\"1\" class=\"dataframe\">\n",
       "  <thead>\n",
       "    <tr style=\"text-align: right;\">\n",
       "      <th></th>\n",
       "      <th>年份</th>\n",
       "      <th>噪声(dB)</th>\n",
       "    </tr>\n",
       "  </thead>\n",
       "  <tbody>\n",
       "    <tr>\n",
       "      <th>0</th>\n",
       "      <td>1986.0</td>\n",
       "      <td>71.1</td>\n",
       "    </tr>\n",
       "    <tr>\n",
       "      <th>1</th>\n",
       "      <td>1987.0</td>\n",
       "      <td>72.4</td>\n",
       "    </tr>\n",
       "    <tr>\n",
       "      <th>2</th>\n",
       "      <td>1988.0</td>\n",
       "      <td>72.4</td>\n",
       "    </tr>\n",
       "    <tr>\n",
       "      <th>3</th>\n",
       "      <td>1989.0</td>\n",
       "      <td>72.1</td>\n",
       "    </tr>\n",
       "    <tr>\n",
       "      <th>4</th>\n",
       "      <td>1990.0</td>\n",
       "      <td>71.4</td>\n",
       "    </tr>\n",
       "    <tr>\n",
       "      <th>5</th>\n",
       "      <td>1991.0</td>\n",
       "      <td>72.0</td>\n",
       "    </tr>\n",
       "    <tr>\n",
       "      <th>6</th>\n",
       "      <td>1992.0</td>\n",
       "      <td>71.6</td>\n",
       "    </tr>\n",
       "  </tbody>\n",
       "</table>\n",
       "</div>"
      ],
      "text/plain": [
       "       年份  噪声(dB)\n",
       "0  1986.0    71.1\n",
       "1  1987.0    72.4\n",
       "2  1988.0    72.4\n",
       "3  1989.0    72.1\n",
       "4  1990.0    71.4\n",
       "5  1991.0    72.0\n",
       "6  1992.0    71.6"
      ]
     },
     "execution_count": 106,
     "metadata": {},
     "output_type": "execute_result"
    }
   ],
   "source": [
    "import numpy as np\n",
    "import pandas as pd\n",
    "data = np.array([71.1, 72.4, 72.4, 72.1, 71.4, 72.0, 71.6])\n",
    "data = np.concatenate((np.arange(1986, 1993).reshape(-1, 1), data.reshape(-1, 1)), axis=1)\n",
    "df = pd.DataFrame(data)\n",
    "df.columns = ['年份', '噪声(dB)']\n",
    "df"
   ]
  },
  {
   "cell_type": "markdown",
   "id": "48a0d71e",
   "metadata": {},
   "source": [
    "1. 级比检验"
   ]
  },
  {
   "cell_type": "code",
   "execution_count": 107,
   "id": "c6c9277c",
   "metadata": {},
   "outputs": [
    {
     "name": "stdout",
     "output_type": "stream",
     "text": [
      "0.9820441988950275 1.0098039215686272 1.2840254166877414 0.7788007830714049\n"
     ]
    }
   ],
   "source": [
    "import math\n",
    "x = data[:, 1]\n",
    "lmda = [x[i]/x[i+1] for i in range(len(x)-1)]\n",
    "\n",
    "ulim = math.exp(2/(len(x)+1))\n",
    "dlim = math.exp(-2/(len(x)+1))\n",
    "\n",
    "print(min(lmda),max(lmda), ulim, dlim)"
   ]
  },
  {
   "cell_type": "markdown",
   "id": "19799a17",
   "metadata": {},
   "source": [
    "满足级比检验"
   ]
  },
  {
   "cell_type": "markdown",
   "id": "92fe919b",
   "metadata": {},
   "source": [
    "2. 建模"
   ]
  },
  {
   "cell_type": "code",
   "execution_count": 108,
   "id": "4f26688c",
   "metadata": {},
   "outputs": [
    {
     "data": {
      "text/plain": [
       "array([[2.34378648e-03],\n",
       "       [7.26572696e+01]])"
      ]
     },
     "execution_count": 108,
     "metadata": {},
     "output_type": "execute_result"
    }
   ],
   "source": [
    "x1 = x.copy()\n",
    "z1 = np.zeros_like(x)\n",
    "for i in range(1, len(x1)):\n",
    "    x1[i] += x1[i-1]\n",
    "    z1[i] = (x1[i] + x1[i-1])/2\n",
    "B = np.concatenate((-z1[1:].reshape(-1, 1), (np.ones_like(z1))[1:].reshape(-1, 1)), axis=1)\n",
    "Y = x[1:].reshape(-1, 1)\n",
    "\n",
    "u = np.linalg.inv(B.T.dot(B)).dot(B.T).dot(Y)\n",
    "u"
   ]
  },
  {
   "cell_type": "markdown",
   "id": "be98efe9",
   "metadata": {},
   "source": [
    "有\n",
    "$$\n",
    "\\begin{aligned}\n",
    "\\widehat{x}^{(1)}(k+1)&=(x^{(0)}(1)-\\frac{\\widehat{b}}{\\widehat{a}})e^{-\\widehat{a}k}+\\frac{\\widehat{b}}{\\widehat{a}},k=0,\\cdots,n-1,\\cdots\\\\\n",
    "&71.1-30997)e^{-0.002344k}+30997\\\\\n",
    "&=-30925.9e^{-0.002344k}+30997\n",
    "\\end{aligned}\n",
    "$$\n"
   ]
  },
  {
   "cell_type": "markdown",
   "id": "c34ee294",
   "metadata": {},
   "source": [
    "3. 预测"
   ]
  },
  {
   "cell_type": "code",
   "execution_count": 109,
   "id": "cb4ee59b",
   "metadata": {},
   "outputs": [
    {
     "data": {
      "text/html": [
       "<div>\n",
       "<style scoped>\n",
       "    .dataframe tbody tr th:only-of-type {\n",
       "        vertical-align: middle;\n",
       "    }\n",
       "\n",
       "    .dataframe tbody tr th {\n",
       "        vertical-align: top;\n",
       "    }\n",
       "\n",
       "    .dataframe thead th {\n",
       "        text-align: right;\n",
       "    }\n",
       "</style>\n",
       "<table border=\"1\" class=\"dataframe\">\n",
       "  <thead>\n",
       "    <tr style=\"text-align: right;\">\n",
       "      <th></th>\n",
       "      <th>年份</th>\n",
       "      <th>噪声(dB)</th>\n",
       "      <th>预测值</th>\n",
       "      <th>残差</th>\n",
       "      <th>相对误差</th>\n",
       "      <th>级比偏差</th>\n",
       "    </tr>\n",
       "  </thead>\n",
       "  <tbody>\n",
       "    <tr>\n",
       "      <th>0</th>\n",
       "      <td>1986.0</td>\n",
       "      <td>71.1</td>\n",
       "      <td>71.000000</td>\n",
       "      <td>-0.100000</td>\n",
       "      <td>-0.001406</td>\n",
       "      <td>1.000000</td>\n",
       "    </tr>\n",
       "    <tr>\n",
       "      <th>1</th>\n",
       "      <td>1987.0</td>\n",
       "      <td>72.4</td>\n",
       "      <td>72.405651</td>\n",
       "      <td>0.005651</td>\n",
       "      <td>0.000078</td>\n",
       "      <td>0.020255</td>\n",
       "    </tr>\n",
       "    <tr>\n",
       "      <th>2</th>\n",
       "      <td>1988.0</td>\n",
       "      <td>72.4</td>\n",
       "      <td>72.236131</td>\n",
       "      <td>-0.163869</td>\n",
       "      <td>-0.002263</td>\n",
       "      <td>0.002341</td>\n",
       "    </tr>\n",
       "    <tr>\n",
       "      <th>3</th>\n",
       "      <td>1989.0</td>\n",
       "      <td>72.1</td>\n",
       "      <td>72.067008</td>\n",
       "      <td>-0.032992</td>\n",
       "      <td>-0.000458</td>\n",
       "      <td>-0.001810</td>\n",
       "    </tr>\n",
       "    <tr>\n",
       "      <th>4</th>\n",
       "      <td>1990.0</td>\n",
       "      <td>71.4</td>\n",
       "      <td>71.898281</td>\n",
       "      <td>0.498281</td>\n",
       "      <td>0.006979</td>\n",
       "      <td>-0.007440</td>\n",
       "    </tr>\n",
       "    <tr>\n",
       "      <th>5</th>\n",
       "      <td>1991.0</td>\n",
       "      <td>72.0</td>\n",
       "      <td>71.729949</td>\n",
       "      <td>-0.270051</td>\n",
       "      <td>-0.003751</td>\n",
       "      <td>0.010655</td>\n",
       "    </tr>\n",
       "    <tr>\n",
       "      <th>6</th>\n",
       "      <td>1992.0</td>\n",
       "      <td>71.6</td>\n",
       "      <td>71.562011</td>\n",
       "      <td>-0.037989</td>\n",
       "      <td>-0.000531</td>\n",
       "      <td>-0.003232</td>\n",
       "    </tr>\n",
       "  </tbody>\n",
       "</table>\n",
       "</div>"
      ],
      "text/plain": [
       "       年份  噪声(dB)        预测值        残差      相对误差      级比偏差\n",
       "0  1986.0    71.1  71.000000 -0.100000 -0.001406  1.000000\n",
       "1  1987.0    72.4  72.405651  0.005651  0.000078  0.020255\n",
       "2  1988.0    72.4  72.236131 -0.163869 -0.002263  0.002341\n",
       "3  1989.0    72.1  72.067008 -0.032992 -0.000458 -0.001810\n",
       "4  1990.0    71.4  71.898281  0.498281  0.006979 -0.007440\n",
       "5  1991.0    72.0  71.729949 -0.270051 -0.003751  0.010655\n",
       "6  1992.0    71.6  71.562011 -0.037989 -0.000531 -0.003232"
      ]
     },
     "execution_count": 109,
     "metadata": {},
     "output_type": "execute_result"
    }
   ],
   "source": [
    "def predict(k):\n",
    "    return -30926*np.exp(-0.002344*k) + 30997\n",
    "\n",
    "pre_x1 = predict(np.arange(len(x)))\n",
    "df['预测值'] = [pre_x1[0], *[pre_x1[i+1] - pre_x1[i] for i in range(len(pre_x1) - 1)]]\n",
    "df['残差'] = df['预测值'] - df['噪声(dB)']\n",
    "df['相对误差'] = df['残差']/df['噪声(dB)']\n",
    "lmda.insert(0, 0)\n",
    "a = (1 - 0.5*0.002344)/(1 + 0.5*0.002344)\n",
    "df['级比偏差'] = 1 - np.multiply(a, lmda)\n",
    "df"
   ]
  },
  {
   "cell_type": "markdown",
   "id": "4f544cba",
   "metadata": {},
   "source": [
    "可以发现残差以及级比偏差均小于 0.1，达到较高预测要求"
   ]
  },
  {
   "cell_type": "markdown",
   "id": "436cd6c1",
   "metadata": {},
   "source": [
    "GM(1,1) 模型适用于具有较强质数规律的序列，只能描述单调的变化过程，对于非单调的摆动发展序列或有饱和的 S 型序列，可以考虑建立 GM(2,1)、DGM 和 Verhulst 模型\n",
    "\n",
    "以下不再赘述数学模型，贴代码\n",
    "### GM(2,1) 模型"
   ]
  },
  {
   "cell_type": "code",
   "execution_count": 110,
   "id": "72fa9e18",
   "metadata": {},
   "outputs": [
    {
     "name": "stdout",
     "output_type": "stream",
     "text": [
      "x1:  [ 41  90 151 229 325 429]\n",
      "u:  [[ -1.09219635]\n",
      " [  0.19590335]\n",
      " [-31.79834712]]\n"
     ]
    }
   ],
   "source": [
    "import numpy as np\n",
    "x = np.array([41, 49, 61, 78, 96, 104])\n",
    "\n",
    "# 得到 1 次累加生成序列\n",
    "x1 = x.copy()\n",
    "for i in range(len(x) - 1):\n",
    "    x1[i+1] += x1[i]\n",
    "print('x1: ', x1)\n",
    "\n",
    "# 得到 1 次累减生成序列\n",
    "ax = x.copy()\n",
    "for i in range(len(x) - 1):\n",
    "    ax[i+1] = x[i+1] - x[i]\n",
    "\n",
    "# x1 的均值生成序列\n",
    "z = np.zeros_like(x, dtype=np.float64)\n",
    "for i in range(len(x) - 1):\n",
    "    z[i+1] = (x1[i+1] + x1[i])/2.0\n",
    "\n",
    "# 求解最小二乘法\n",
    "B = np.concatenate((-x[1:].reshape(-1, 1), -z[1:].reshape(-1, 1), np.ones((len(x)-1, 1))), axis=1)\n",
    "Y = ax[1:].reshape(-1, 1)\n",
    "u = np.linalg.inv(B.T.dot(B)).dot(B.T).dot(Y)\n",
    "\n",
    "# u = [a1, a2, b].T\n",
    "print('u: ', u)"
   ]
  },
  {
   "cell_type": "markdown",
   "id": "c329ae80",
   "metadata": {},
   "source": [
    "得到白化模型\n",
    "$$\n",
    "\\frac{d^2x^{(1)}}{dt^2} + a_1\\frac{dx^{(1)}}{dt} + a_2x^{(1)} = b\n",
    "$$\n",
    "即\n",
    "$$\n",
    "y^{''}-1.0922y^{'}+0.1959y = -31.7983\\\\\n",
    "def\\quad y=x^{(1)}\n",
    "$$\n",
    "同时拥有边界条件\n",
    "$$\n",
    "y(1) = 41\\\\\n",
    "y(6) = 429\n",
    "$$\n",
    "进行求解"
   ]
  },
  {
   "cell_type": "code",
   "execution_count": 111,
   "id": "d381fee2",
   "metadata": {},
   "outputs": [
    {
     "data": {
      "text/latex": [
       "$\\displaystyle y{\\left(t \\right)} = 162.577722971712 e^{0.226223404169042 t} - 0.223994340679972 e^{0.865972945416788 t} - 162.316507096964$"
      ],
      "text/plain": [
       "Eq(y(t), 162.577722971712*exp(0.226223404169042*t) - 0.223994340679972*exp(0.865972945416788*t) - 162.316507096964)"
      ]
     },
     "execution_count": 111,
     "metadata": {},
     "output_type": "execute_result"
    }
   ],
   "source": [
    "import sympy\n",
    "\n",
    "# 定义符号\n",
    "t = sympy.symbols(\"t\", positive=True)\n",
    "y = sympy.Function('y')\n",
    "\n",
    "# 定义方程\n",
    "ode = y(t).diff(t, 2) + u[0]*y(t).diff(t, 1) + u[1]*y(t) - u[2]\n",
    "# 得到通解\n",
    "ode_sol = sympy.dsolve(ode)[0]\n",
    "# 定义边界条件\n",
    "ics = {y(1): 41, y(6): 429}\n",
    "# 得到特接\n",
    "eqs = [\n",
    "    (ode_sol.lhs - ode_sol.rhs).subs(t, 1).subs(ics),\n",
    "    (ode_sol.lhs - ode_sol.rhs).subs(t, 6).subs(ics)\n",
    "]\n",
    "free_params = ode_sol.free_symbols - {t}\n",
    "sol_params = sympy.solve(eqs, free_params)\n",
    "y_t_sol = ode_sol.subs(sol_params)\n",
    "\n",
    "y_t_sol"
   ]
  },
  {
   "cell_type": "code",
   "execution_count": 126,
   "id": "9b590b80",
   "metadata": {},
   "outputs": [
    {
     "data": {
      "text/html": [
       "<div>\n",
       "<style scoped>\n",
       "    .dataframe tbody tr th:only-of-type {\n",
       "        vertical-align: middle;\n",
       "    }\n",
       "\n",
       "    .dataframe tbody tr th {\n",
       "        vertical-align: top;\n",
       "    }\n",
       "\n",
       "    .dataframe thead th {\n",
       "        text-align: right;\n",
       "    }\n",
       "</style>\n",
       "<table border=\"1\" class=\"dataframe\">\n",
       "  <thead>\n",
       "    <tr style=\"text-align: right;\">\n",
       "      <th></th>\n",
       "      <th>实际数据</th>\n",
       "      <th>预测数据</th>\n",
       "      <th>残差</th>\n",
       "      <th>相对误差</th>\n",
       "    </tr>\n",
       "  </thead>\n",
       "  <tbody>\n",
       "    <tr>\n",
       "      <th>0</th>\n",
       "      <td>41.0</td>\n",
       "      <td>41.000000</td>\n",
       "      <td>1.705303e-13</td>\n",
       "      <td>4.159275e-15</td>\n",
       "    </tr>\n",
       "    <tr>\n",
       "      <th>1</th>\n",
       "      <td>49.0</td>\n",
       "      <td>51.014814</td>\n",
       "      <td>-2.014814e+00</td>\n",
       "      <td>-4.111866e-02</td>\n",
       "    </tr>\n",
       "    <tr>\n",
       "      <th>2</th>\n",
       "      <td>61.0</td>\n",
       "      <td>63.141238</td>\n",
       "      <td>-2.141238e+00</td>\n",
       "      <td>-3.510226e-02</td>\n",
       "    </tr>\n",
       "    <tr>\n",
       "      <th>3</th>\n",
       "      <td>78.0</td>\n",
       "      <td>77.211140</td>\n",
       "      <td>7.888598e-01</td>\n",
       "      <td>1.011359e-02</td>\n",
       "    </tr>\n",
       "    <tr>\n",
       "      <th>4</th>\n",
       "      <td>96.0</td>\n",
       "      <td>92.154790</td>\n",
       "      <td>3.845210e+00</td>\n",
       "      <td>4.005427e-02</td>\n",
       "    </tr>\n",
       "    <tr>\n",
       "      <th>5</th>\n",
       "      <td>104.0</td>\n",
       "      <td>104.478018</td>\n",
       "      <td>-4.780179e-01</td>\n",
       "      <td>-4.596326e-03</td>\n",
       "    </tr>\n",
       "  </tbody>\n",
       "</table>\n",
       "</div>"
      ],
      "text/plain": [
       "    实际数据        预测数据            残差          相对误差\n",
       "0   41.0   41.000000  1.705303e-13  4.159275e-15\n",
       "1   49.0   51.014814 -2.014814e+00 -4.111866e-02\n",
       "2   61.0   63.141238 -2.141238e+00 -3.510226e-02\n",
       "3   78.0   77.211140  7.888598e-01  1.011359e-02\n",
       "4   96.0   92.154790  3.845210e+00  4.005427e-02\n",
       "5  104.0  104.478018 -4.780179e-01 -4.596326e-03"
      ]
     },
     "execution_count": 126,
     "metadata": {},
     "output_type": "execute_result"
    }
   ],
   "source": [
    "# 得到数值函数，且进行误差预测\n",
    "fy = sympy.lambdify(t, y_t_sol.rhs)\n",
    "px1 = fy(np.arange(1, 7))\n",
    "px0 = np.array([px1[0], *[px1[i+1] - px1[i] for i in range(len(px1) - 1)]])\n",
    "\n",
    "df = pd.DataFrame((x, px0)).T\n",
    "df.columns = ['实际数据', '预测数据']\n",
    "df['残差'] = df['实际数据'] - df['预测数据']\n",
    "df['相对误差'] = df['残差'] / df['实际数据']\n",
    "df"
   ]
  },
  {
   "cell_type": "code",
   "execution_count": 152,
   "id": "a3ff1469",
   "metadata": {},
   "outputs": [
    {
     "data": {
      "text/plain": [
       "<matplotlib.legend.Legend at 0x1baf6f43e20>"
      ]
     },
     "execution_count": 152,
     "metadata": {},
     "output_type": "execute_result"
    },
    {
     "data": {
      "image/png": "[encoded data removed]",
      "text/plain": [
       "<Figure size 432x288 with 1 Axes>"
      ]
     },
     "metadata": {
      "needs_background": "light"
     },
     "output_type": "display_data"
    }
   ],
   "source": [
    "import matplotlib.pyplot as plt\n",
    "px0 = np.arange(1, 9)\n",
    "py00 = fy(px0)\n",
    "py0 = py00.copy()\n",
    "for i in range(1, len(py00)):\n",
    "    py0[i] = py00[i] - py00[i-1]\n",
    "px1 = np.arange(1, 7)\n",
    "\n",
    "plt.plot(px0, py0, '-o', label='predict')\n",
    "plt.plot(px1, x, '--x', label='origin')\n",
    "plt.legend()"
   ]
  }
 ],
 "metadata": {
  "kernelspec": {
   "display_name": "Python 3",
   "language": "python",
   "name": "python3"
  },
  "language_info": {
   "codemirror_mode": {
    "name": "ipython",
    "version": 3
   },
   "file_extension": ".py",
   "mimetype": "text/x-python",
   "name": "python",
   "nbconvert_exporter": "python",
   "pygments_lexer": "ipython3",
   "version": "3.8.8"
  }
 },
 "nbformat": 4,
 "nbformat_minor": 5
}
